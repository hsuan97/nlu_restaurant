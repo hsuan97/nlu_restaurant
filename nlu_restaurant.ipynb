{
  "nbformat": 4,
  "nbformat_minor": 0,
  "metadata": {
    "colab": {
      "name": "nlu_restaurant.ipynb",
      "provenance": [],
      "collapsed_sections": []
    },
    "kernelspec": {
      "display_name": "Python 3",
      "name": "python3"
    },
    "language_info": {
      "name": "python"
    }
  },
  "cells": [
    {
      "cell_type": "code",
      "metadata": {
        "id": "MFeSpjySU--8"
      },
      "source": [
        "from __future__ import print_function, division\n",
        "from builtins import range"
      ],
      "execution_count": 1,
      "outputs": []
    },
    {
      "cell_type": "code",
      "metadata": {
        "id": "oqWrzzScWR7u"
      },
      "source": [
        "import os\n",
        "import sys\n",
        "import numpy as np\n",
        "import pandas as pd\n",
        "import matplotlib.pyplot as plt\n",
        "from keras.preprocessing.text import Tokenizer\n",
        "from keras.preprocessing.sequence import pad_sequences\n",
        "from keras.layers import Dense, Input, GlobalMaxPooling1D\n",
        "from keras.layers import Conv1D, MaxPooling1D, Embedding\n",
        "from keras.models import Model\n",
        "from sklearn.metrics import roc_auc_score"
      ],
      "execution_count": 2,
      "outputs": []
    },
    {
      "cell_type": "code",
      "metadata": {
        "id": "p2CbGyfWWSHU"
      },
      "source": [
        "# some configuration\n",
        "MAX_SEQUENCE_LENGTH = 100\n",
        "MAX_VOCAB_SIZE = 20000\n",
        "EMBEDDING_DIM = 100\n",
        "VALIDATION_SPLIT = 0.2\n",
        "BATCH_SIZE = 128\n",
        "EPOCHS = 50"
      ],
      "execution_count": 3,
      "outputs": []
    },
    {
      "cell_type": "code",
      "metadata": {
        "colab": {
          "base_uri": "https://localhost:8080/"
        },
        "id": "ukuhtPsGWSRD",
        "outputId": "ae7d707f-00fe-4138-b14e-6cb6deafe90a"
      },
      "source": [
        "# Download the word vectors:\n",
        "# http://nlp.stanford.edu/data/glove.6B.zip\n",
        "\n",
        "# load in pre-trained word vectors\n",
        "print('Loading word vectors...')\n",
        "word2vec = {}\n",
        "with open(os.path.join('../content/drive/MyDrive/glove.6B/glove.6B.%sd.txt' % EMBEDDING_DIM)) as f:\n",
        "  #/content/drive/MyDrive/glove.6B\n",
        "  # is just a space-separated text file in the format:\n",
        "  # word vec[0] vec[1] vec[2] ...\n",
        "  for line in f:\n",
        "    values = line.split()\n",
        "    word = values[0]\n",
        "    vec = np.asarray(values[1:], dtype='float32')\n",
        "    word2vec[word] = vec\n",
        "print('Found %s word vectors.' % len(word2vec))"
      ],
      "execution_count": 4,
      "outputs": [
        {
          "output_type": "stream",
          "text": [
            "Loading word vectors...\n",
            "Found 400000 word vectors.\n"
          ],
          "name": "stdout"
        }
      ]
    },
    {
      "cell_type": "code",
      "metadata": {
        "id": "4EHojxsH4dm0"
      },
      "source": [
        "train = pd.read_csv(\"../content/drive/MyDrive/nlu_dct_fix1.csv\")\n",
        "sentences = train[\"comment_text\"].fillna(\"DUMMY_VALUE\").values\n",
        "possible_labels = [\"locate_restaurant\", \"restaurant_type\", \"table_reservation\", \"restaurant_review\"]\n",
        "targets = train[possible_labels].values"
      ],
      "execution_count": 5,
      "outputs": []
    },
    {
      "cell_type": "code",
      "metadata": {
        "id": "GwVcp8iRWSUi"
      },
      "source": [
        "# convert the sentences (strings) into integers\n",
        "tokenizer = Tokenizer(num_words=MAX_VOCAB_SIZE)\n",
        "tokenizer.fit_on_texts(sentences)\n",
        "sequences = tokenizer.texts_to_sequences(sentences)\n",
        "#print(\"sequences:\", sequences); exit()"
      ],
      "execution_count": 6,
      "outputs": []
    },
    {
      "cell_type": "code",
      "metadata": {
        "colab": {
          "base_uri": "https://localhost:8080/"
        },
        "id": "z_xeiaFyWSYS",
        "outputId": "03f58a4c-f062-466d-f2b7-3bad703b1b6e"
      },
      "source": [
        "print(\"max sequence length:\", max(len(s) for s in sequences))\n",
        "print(\"min sequence length:\", min(len(s) for s in sequences))\n",
        "s = sorted(len(s) for s in sequences)\n",
        "print(\"median sequence length:\", s[len(s) // 2])\n",
        "\n",
        "print(\"max word index:\", max(max(seq) for seq in sequences if len(seq) > 0))"
      ],
      "execution_count": 7,
      "outputs": [
        {
          "output_type": "stream",
          "text": [
            "max sequence length: 15\n",
            "min sequence length: 1\n",
            "median sequence length: 4\n",
            "max word index: 198\n"
          ],
          "name": "stdout"
        }
      ]
    },
    {
      "cell_type": "code",
      "metadata": {
        "colab": {
          "base_uri": "https://localhost:8080/"
        },
        "id": "Lo5edu0WW5Pi",
        "outputId": "c9110f62-bba7-4003-e691-603eec14f3ef"
      },
      "source": [
        "word2idx = tokenizer.word_index\n",
        "print('Found %s unique tokens.' % len(word2idx))"
      ],
      "execution_count": 8,
      "outputs": [
        {
          "output_type": "stream",
          "text": [
            "Found 198 unique tokens.\n"
          ],
          "name": "stdout"
        }
      ]
    },
    {
      "cell_type": "code",
      "metadata": {
        "colab": {
          "base_uri": "https://localhost:8080/"
        },
        "id": "kv5eNBmKW5Wj",
        "outputId": "bf432d10-b3e3-4b53-d04a-42ca2947c292"
      },
      "source": [
        "data = pad_sequences(sequences, maxlen=MAX_SEQUENCE_LENGTH)\n",
        "print('Shape of data tensor:', data.shape)"
      ],
      "execution_count": 9,
      "outputs": [
        {
          "output_type": "stream",
          "text": [
            "Shape of data tensor: (100, 100)\n"
          ],
          "name": "stdout"
        }
      ]
    },
    {
      "cell_type": "code",
      "metadata": {
        "colab": {
          "base_uri": "https://localhost:8080/"
        },
        "id": "2ihh0D3UW5b-",
        "outputId": "b9e7ec9c-3ba1-48ec-e811-0eb819332b5f"
      },
      "source": [
        "# prepare embedding matrix\n",
        "print('Filling pre-trained embeddings...')\n",
        "num_words = min(MAX_VOCAB_SIZE, len(word2idx) + 1)\n",
        "embedding_matrix = np.zeros((num_words, EMBEDDING_DIM))\n",
        "for word, i in word2idx.items():\n",
        "  if i < MAX_VOCAB_SIZE:\n",
        "    embedding_vector = word2vec.get(word)\n",
        "    if embedding_vector is not None:\n",
        "      # words not found in embedding index will be all zeros.\n",
        "      embedding_matrix[i] = embedding_vector"
      ],
      "execution_count": 10,
      "outputs": [
        {
          "output_type": "stream",
          "text": [
            "Filling pre-trained embeddings...\n"
          ],
          "name": "stdout"
        }
      ]
    },
    {
      "cell_type": "code",
      "metadata": {
        "colab": {
          "base_uri": "https://localhost:8080/"
        },
        "id": "KWmyREcoW5g9",
        "outputId": "524faa7a-2d09-4527-cd90-93fcaccce41d"
      },
      "source": [
        "print('Filling pre-trained embeddings...')\n",
        "num_words = min(MAX_VOCAB_SIZE, len(word2idx) + 1)\n",
        "embedding_matrix = np.zeros((num_words, EMBEDDING_DIM))\n",
        "for word, i in word2idx.items():\n",
        "  if i < MAX_VOCAB_SIZE:\n",
        "    embedding_vector = word2vec.get(word)\n",
        "    if embedding_vector is not None:\n",
        "      # words not found in embedding index will be all zeros.\n",
        "      embedding_matrix[i] = embedding_vector"
      ],
      "execution_count": 11,
      "outputs": [
        {
          "output_type": "stream",
          "text": [
            "Filling pre-trained embeddings...\n"
          ],
          "name": "stdout"
        }
      ]
    },
    {
      "cell_type": "code",
      "metadata": {
        "colab": {
          "base_uri": "https://localhost:8080/"
        },
        "id": "hakGvGyFW5lN",
        "outputId": "1eab4432-1ef0-4f8f-ecf2-6782ef5c23fe"
      },
      "source": [
        "embedding_layer = Embedding(\n",
        "  num_words,\n",
        "  EMBEDDING_DIM,\n",
        "  weights=[embedding_matrix],\n",
        "  input_length=MAX_SEQUENCE_LENGTH,\n",
        "  trainable=False\n",
        ")\n",
        "\n",
        "\n",
        "print('Building model...')"
      ],
      "execution_count": 12,
      "outputs": [
        {
          "output_type": "stream",
          "text": [
            "Building model...\n"
          ],
          "name": "stdout"
        }
      ]
    },
    {
      "cell_type": "code",
      "metadata": {
        "colab": {
          "base_uri": "https://localhost:8080/"
        },
        "id": "wQnHnKNhaLbM",
        "outputId": "2a15dfc2-8bde-4ac6-b641-739aa80feabd"
      },
      "source": [
        "# train a 1D convnet with global maxpooling\n",
        "#input_ = Input(shape=(MAX_SEQUENCE_LENGTH,1))\n",
        "input_ = Input(shape=(MAX_SEQUENCE_LENGTH,))\n",
        "x = embedding_layer(input_)\n",
        "#x = Conv1D(128, 3, activation='relu')(input_)\n",
        "x = Conv1D(128, 3, activation='relu')(x)\n",
        "x = MaxPooling1D(3)(x)\n",
        "x = Conv1D(128, 3, activation='relu')(x)\n",
        "x = MaxPooling1D(3)(x)\n",
        "x = Conv1D(128, 3, activation='relu')(x)\n",
        "x = GlobalMaxPooling1D()(x)\n",
        "x = Dense(128, activation='relu')(x)\n",
        "output = Dense(len(possible_labels), activation='sigmoid')(x)\n",
        "\n",
        "#model = tf.keras.models.Model(input_, output)\n",
        "model = Model(input_, output)\n",
        "model.compile(\n",
        "  loss='binary_crossentropy',\n",
        "  optimizer='rmsprop',\n",
        "  metrics=['accuracy']\n",
        ")\n",
        "model.summary()\n",
        "\n",
        "print('Training model...')\n",
        "r = model.fit(\n",
        "  data,\n",
        "  targets,\n",
        "  batch_size=BATCH_SIZE,\n",
        "  epochs=EPOCHS,\n",
        "  validation_split=VALIDATION_SPLIT\n",
        ")"
      ],
      "execution_count": 13,
      "outputs": [
        {
          "output_type": "stream",
          "text": [
            "Model: \"model\"\n",
            "_________________________________________________________________\n",
            "Layer (type)                 Output Shape              Param #   \n",
            "=================================================================\n",
            "input_1 (InputLayer)         [(None, 100)]             0         \n",
            "_________________________________________________________________\n",
            "embedding (Embedding)        (None, 100, 100)          19900     \n",
            "_________________________________________________________________\n",
            "conv1d (Conv1D)              (None, 98, 128)           38528     \n",
            "_________________________________________________________________\n",
            "max_pooling1d (MaxPooling1D) (None, 32, 128)           0         \n",
            "_________________________________________________________________\n",
            "conv1d_1 (Conv1D)            (None, 30, 128)           49280     \n",
            "_________________________________________________________________\n",
            "max_pooling1d_1 (MaxPooling1 (None, 10, 128)           0         \n",
            "_________________________________________________________________\n",
            "conv1d_2 (Conv1D)            (None, 8, 128)            49280     \n",
            "_________________________________________________________________\n",
            "global_max_pooling1d (Global (None, 128)               0         \n",
            "_________________________________________________________________\n",
            "dense (Dense)                (None, 128)               16512     \n",
            "_________________________________________________________________\n",
            "dense_1 (Dense)              (None, 4)                 516       \n",
            "=================================================================\n",
            "Total params: 174,016\n",
            "Trainable params: 154,116\n",
            "Non-trainable params: 19,900\n",
            "_________________________________________________________________\n",
            "Training model...\n",
            "Epoch 1/50\n",
            "1/1 [==============================] - 17s 17s/step - loss: 0.6960 - accuracy: 0.1875 - val_loss: 0.6462 - val_accuracy: 0.3000\n",
            "Epoch 2/50\n",
            "1/1 [==============================] - 0s 94ms/step - loss: 0.6482 - accuracy: 0.5625 - val_loss: 0.5922 - val_accuracy: 0.2500\n",
            "Epoch 3/50\n",
            "1/1 [==============================] - 0s 99ms/step - loss: 0.5904 - accuracy: 0.4000 - val_loss: 0.5978 - val_accuracy: 0.2000\n",
            "Epoch 4/50\n",
            "1/1 [==============================] - 0s 104ms/step - loss: 0.5478 - accuracy: 0.5000 - val_loss: 0.5738 - val_accuracy: 0.2500\n",
            "Epoch 5/50\n",
            "1/1 [==============================] - 0s 96ms/step - loss: 0.5116 - accuracy: 0.5125 - val_loss: 0.6473 - val_accuracy: 0.6000\n",
            "Epoch 6/50\n",
            "1/1 [==============================] - 0s 96ms/step - loss: 0.4906 - accuracy: 0.6500 - val_loss: 0.5820 - val_accuracy: 0.6500\n",
            "Epoch 7/50\n",
            "1/1 [==============================] - 0s 104ms/step - loss: 0.4813 - accuracy: 0.6125 - val_loss: 0.6334 - val_accuracy: 0.6000\n",
            "Epoch 8/50\n",
            "1/1 [==============================] - 0s 110ms/step - loss: 0.4384 - accuracy: 0.6750 - val_loss: 0.5765 - val_accuracy: 0.8000\n",
            "Epoch 9/50\n",
            "1/1 [==============================] - 0s 102ms/step - loss: 0.4067 - accuracy: 0.8125 - val_loss: 0.6130 - val_accuracy: 0.7500\n",
            "Epoch 10/50\n",
            "1/1 [==============================] - 0s 95ms/step - loss: 0.4025 - accuracy: 0.7875 - val_loss: 0.5604 - val_accuracy: 0.7000\n",
            "Epoch 11/50\n",
            "1/1 [==============================] - 0s 98ms/step - loss: 0.3440 - accuracy: 0.8375 - val_loss: 0.5227 - val_accuracy: 0.7500\n",
            "Epoch 12/50\n",
            "1/1 [==============================] - 0s 109ms/step - loss: 0.3080 - accuracy: 0.8375 - val_loss: 0.5723 - val_accuracy: 0.7500\n",
            "Epoch 13/50\n",
            "1/1 [==============================] - 0s 97ms/step - loss: 0.2799 - accuracy: 0.8500 - val_loss: 0.5215 - val_accuracy: 0.7500\n",
            "Epoch 14/50\n",
            "1/1 [==============================] - 0s 101ms/step - loss: 0.2664 - accuracy: 0.8250 - val_loss: 0.7005 - val_accuracy: 0.6500\n",
            "Epoch 15/50\n",
            "1/1 [==============================] - 0s 93ms/step - loss: 0.2711 - accuracy: 0.8000 - val_loss: 0.5650 - val_accuracy: 0.6000\n",
            "Epoch 16/50\n",
            "1/1 [==============================] - 0s 101ms/step - loss: 0.2717 - accuracy: 0.7750 - val_loss: 0.7192 - val_accuracy: 0.7000\n",
            "Epoch 17/50\n",
            "1/1 [==============================] - 0s 110ms/step - loss: 0.2522 - accuracy: 0.8375 - val_loss: 0.4935 - val_accuracy: 0.8000\n",
            "Epoch 18/50\n",
            "1/1 [==============================] - 0s 109ms/step - loss: 0.2107 - accuracy: 0.8750 - val_loss: 0.5702 - val_accuracy: 0.7000\n",
            "Epoch 19/50\n",
            "1/1 [==============================] - 0s 99ms/step - loss: 0.1924 - accuracy: 0.9000 - val_loss: 0.5333 - val_accuracy: 0.8000\n",
            "Epoch 20/50\n",
            "1/1 [==============================] - 0s 100ms/step - loss: 0.1802 - accuracy: 0.8875 - val_loss: 0.5806 - val_accuracy: 0.7000\n",
            "Epoch 21/50\n",
            "1/1 [==============================] - 0s 94ms/step - loss: 0.1711 - accuracy: 0.9000 - val_loss: 0.5635 - val_accuracy: 0.7500\n",
            "Epoch 22/50\n",
            "1/1 [==============================] - 0s 101ms/step - loss: 0.1636 - accuracy: 0.9000 - val_loss: 0.6074 - val_accuracy: 0.7000\n",
            "Epoch 23/50\n",
            "1/1 [==============================] - 0s 93ms/step - loss: 0.1576 - accuracy: 0.9000 - val_loss: 0.5902 - val_accuracy: 0.7500\n",
            "Epoch 24/50\n",
            "1/1 [==============================] - 0s 109ms/step - loss: 0.1522 - accuracy: 0.9000 - val_loss: 0.6382 - val_accuracy: 0.7000\n",
            "Epoch 25/50\n",
            "1/1 [==============================] - 0s 103ms/step - loss: 0.1482 - accuracy: 0.9000 - val_loss: 0.6217 - val_accuracy: 0.7500\n",
            "Epoch 26/50\n",
            "1/1 [==============================] - 0s 99ms/step - loss: 0.1443 - accuracy: 0.9000 - val_loss: 0.6599 - val_accuracy: 0.7000\n",
            "Epoch 27/50\n",
            "1/1 [==============================] - 0s 99ms/step - loss: 0.1414 - accuracy: 0.9000 - val_loss: 0.6721 - val_accuracy: 0.7500\n",
            "Epoch 28/50\n",
            "1/1 [==============================] - 0s 86ms/step - loss: 0.1385 - accuracy: 0.9000 - val_loss: 0.6696 - val_accuracy: 0.7500\n",
            "Epoch 29/50\n",
            "1/1 [==============================] - 0s 99ms/step - loss: 0.1356 - accuracy: 0.9000 - val_loss: 0.7251 - val_accuracy: 0.7500\n",
            "Epoch 30/50\n",
            "1/1 [==============================] - 0s 99ms/step - loss: 0.1328 - accuracy: 0.9000 - val_loss: 0.6629 - val_accuracy: 0.7500\n",
            "Epoch 31/50\n",
            "1/1 [==============================] - 0s 95ms/step - loss: 0.1293 - accuracy: 0.9000 - val_loss: 0.7417 - val_accuracy: 0.7500\n",
            "Epoch 32/50\n",
            "1/1 [==============================] - 0s 92ms/step - loss: 0.1268 - accuracy: 0.9000 - val_loss: 0.6776 - val_accuracy: 0.7000\n",
            "Epoch 33/50\n",
            "1/1 [==============================] - 0s 101ms/step - loss: 0.1241 - accuracy: 0.9000 - val_loss: 0.7346 - val_accuracy: 0.7500\n",
            "Epoch 34/50\n",
            "1/1 [==============================] - 0s 92ms/step - loss: 0.1223 - accuracy: 0.9000 - val_loss: 0.6994 - val_accuracy: 0.7000\n",
            "Epoch 35/50\n",
            "1/1 [==============================] - 0s 88ms/step - loss: 0.1209 - accuracy: 0.9000 - val_loss: 0.7466 - val_accuracy: 0.7500\n",
            "Epoch 36/50\n",
            "1/1 [==============================] - 0s 101ms/step - loss: 0.1198 - accuracy: 0.9000 - val_loss: 0.7213 - val_accuracy: 0.7000\n",
            "Epoch 37/50\n",
            "1/1 [==============================] - 0s 97ms/step - loss: 0.1190 - accuracy: 0.9000 - val_loss: 0.7597 - val_accuracy: 0.7500\n",
            "Epoch 38/50\n",
            "1/1 [==============================] - 0s 97ms/step - loss: 0.1185 - accuracy: 0.9000 - val_loss: 0.7436 - val_accuracy: 0.7000\n",
            "Epoch 39/50\n",
            "1/1 [==============================] - 0s 101ms/step - loss: 0.1185 - accuracy: 0.9000 - val_loss: 0.7883 - val_accuracy: 0.7500\n",
            "Epoch 40/50\n",
            "1/1 [==============================] - 0s 92ms/step - loss: 0.1189 - accuracy: 0.9000 - val_loss: 0.7650 - val_accuracy: 0.7000\n",
            "Epoch 41/50\n",
            "1/1 [==============================] - 0s 95ms/step - loss: 0.1200 - accuracy: 0.9000 - val_loss: 0.8141 - val_accuracy: 0.7500\n",
            "Epoch 42/50\n",
            "1/1 [==============================] - 0s 102ms/step - loss: 0.1204 - accuracy: 0.9000 - val_loss: 0.7800 - val_accuracy: 0.7000\n",
            "Epoch 43/50\n",
            "1/1 [==============================] - 0s 89ms/step - loss: 0.1199 - accuracy: 0.9000 - val_loss: 0.8314 - val_accuracy: 0.7500\n",
            "Epoch 44/50\n",
            "1/1 [==============================] - 0s 91ms/step - loss: 0.1182 - accuracy: 0.9000 - val_loss: 0.7753 - val_accuracy: 0.7000\n",
            "Epoch 45/50\n",
            "1/1 [==============================] - 0s 110ms/step - loss: 0.1167 - accuracy: 0.9000 - val_loss: 0.8411 - val_accuracy: 0.7500\n",
            "Epoch 46/50\n",
            "1/1 [==============================] - 0s 91ms/step - loss: 0.1155 - accuracy: 0.9000 - val_loss: 0.7812 - val_accuracy: 0.7000\n",
            "Epoch 47/50\n",
            "1/1 [==============================] - 0s 101ms/step - loss: 0.1150 - accuracy: 0.9000 - val_loss: 0.8567 - val_accuracy: 0.7500\n",
            "Epoch 48/50\n",
            "1/1 [==============================] - 0s 87ms/step - loss: 0.1146 - accuracy: 0.9000 - val_loss: 0.7952 - val_accuracy: 0.7000\n",
            "Epoch 49/50\n",
            "1/1 [==============================] - 0s 91ms/step - loss: 0.1145 - accuracy: 0.9000 - val_loss: 0.8772 - val_accuracy: 0.7500\n",
            "Epoch 50/50\n",
            "1/1 [==============================] - 0s 103ms/step - loss: 0.1144 - accuracy: 0.9000 - val_loss: 0.8048 - val_accuracy: 0.7000\n"
          ],
          "name": "stdout"
        }
      ]
    },
    {
      "cell_type": "code",
      "metadata": {
        "id": "J6sf2HqwK0Wh",
        "colab": {
          "base_uri": "https://localhost:8080/"
        },
        "outputId": "1e29d8b5-aab1-4ff8-ebcc-64d4a91804f5"
      },
      "source": [
        "print(data)\n",
        "print(targets)"
      ],
      "execution_count": 14,
      "outputs": [
        {
          "output_type": "stream",
          "text": [
            "[[  0   0   0 ...   3  31   1]\n",
            " [  0   0   0 ...  10  15   4]\n",
            " [  0   0   0 ...  26  33   1]\n",
            " ...\n",
            " [  0   0   0 ...  11 189  14]\n",
            " [  0   0   0 ... 191   5  61]\n",
            " [  0   0   0 ... 197 198  35]]\n",
            "[[1 0 0 0]\n",
            " [1 0 0 0]\n",
            " [0 1 0 0]\n",
            " [0 1 0 0]\n",
            " [0 0 1 0]\n",
            " [0 0 1 0]\n",
            " [0 0 0 1]\n",
            " [0 0 0 1]\n",
            " [1 0 0 0]\n",
            " [1 0 0 0]\n",
            " [0 1 0 0]\n",
            " [0 1 0 0]\n",
            " [0 0 1 0]\n",
            " [0 0 1 0]\n",
            " [0 0 0 1]\n",
            " [0 0 0 1]\n",
            " [1 0 0 0]\n",
            " [1 0 0 0]\n",
            " [0 1 0 0]\n",
            " [0 1 0 0]\n",
            " [0 0 1 0]\n",
            " [0 0 1 0]\n",
            " [0 0 0 1]\n",
            " [0 0 0 1]\n",
            " [1 0 0 0]\n",
            " [1 0 0 0]\n",
            " [0 1 0 0]\n",
            " [0 1 0 0]\n",
            " [0 0 1 0]\n",
            " [0 0 1 0]\n",
            " [0 0 0 1]\n",
            " [0 0 0 1]\n",
            " [1 0 0 0]\n",
            " [1 0 0 0]\n",
            " [0 1 0 0]\n",
            " [0 1 0 0]\n",
            " [0 0 1 0]\n",
            " [0 0 1 0]\n",
            " [0 0 0 1]\n",
            " [0 0 0 1]\n",
            " [1 0 0 0]\n",
            " [1 0 0 0]\n",
            " [0 1 0 0]\n",
            " [0 1 0 0]\n",
            " [0 0 1 0]\n",
            " [0 0 0 1]\n",
            " [0 0 0 1]\n",
            " [1 0 0 0]\n",
            " [1 0 0 0]\n",
            " [0 1 0 0]\n",
            " [0 1 0 0]\n",
            " [0 0 0 1]\n",
            " [0 0 0 1]\n",
            " [1 0 0 0]\n",
            " [1 0 0 0]\n",
            " [0 1 0 0]\n",
            " [0 1 0 0]\n",
            " [0 0 0 1]\n",
            " [0 0 0 1]\n",
            " [1 0 0 0]\n",
            " [1 0 0 0]\n",
            " [0 1 0 0]\n",
            " [0 1 0 0]\n",
            " [0 0 0 1]\n",
            " [0 0 0 1]\n",
            " [1 0 0 0]\n",
            " [1 0 0 0]\n",
            " [0 1 0 0]\n",
            " [0 1 0 0]\n",
            " [0 1 0 0]\n",
            " [0 0 0 1]\n",
            " [0 0 0 1]\n",
            " [0 0 0 1]\n",
            " [0 1 0 0]\n",
            " [0 1 0 0]\n",
            " [0 1 0 0]\n",
            " [0 0 0 1]\n",
            " [0 0 0 1]\n",
            " [0 0 0 1]\n",
            " [0 1 0 0]\n",
            " [0 1 0 0]\n",
            " [0 1 0 0]\n",
            " [1 0 0 0]\n",
            " [1 0 0 0]\n",
            " [0 1 0 0]\n",
            " [0 1 0 0]\n",
            " [1 0 0 0]\n",
            " [0 1 0 0]\n",
            " [0 1 0 0]\n",
            " [0 0 0 1]\n",
            " [1 0 0 0]\n",
            " [0 0 1 0]\n",
            " [0 0 1 0]\n",
            " [0 1 0 0]\n",
            " [0 1 0 0]\n",
            " [0 1 0 0]\n",
            " [0 0 0 1]\n",
            " [0 0 0 1]\n",
            " [0 0 0 1]\n",
            " [0 0 0 1]]\n"
          ],
          "name": "stdout"
        }
      ]
    },
    {
      "cell_type": "code",
      "metadata": {
        "colab": {
          "base_uri": "https://localhost:8080/",
          "height": 281
        },
        "id": "ELvixHu6q0X9",
        "outputId": "772a5b53-4fcf-4140-d97e-ed7e71c70fe2"
      },
      "source": [
        "# plot some data\n",
        "plt.plot(r.history['loss'], label='train')\n",
        "plt.plot(r.history['val_loss'], label='validation')\n",
        "plt.title('Loss')\n",
        "plt.legend()\n",
        "plt.show()"
      ],
      "execution_count": 17,
      "outputs": [
        {
          "output_type": "display_data",
          "data": {
            "image/png": "[encoded data removed]",
            "text/plain": [
              "<Figure size 432x288 with 1 Axes>"
            ]
          },
          "metadata": {
            "tags": [],
            "needs_background": "light"
          }
        }
      ]
    },
    {
      "cell_type": "code",
      "metadata": {
        "colab": {
          "base_uri": "https://localhost:8080/",
          "height": 281
        },
        "id": "wbNEUPV7q4GL",
        "outputId": "4373873a-8409-4113-89d2-458f7fc66483"
      },
      "source": [
        "# accuracies\n",
        "plt.plot(r.history['accuracy'], label='train')\n",
        "plt.plot(r.history['val_accuracy'], label='validation')\n",
        "plt.title('Accuracy')\n",
        "plt.legend()\n",
        "plt.show()"
      ],
      "execution_count": 18,
      "outputs": [
        {
          "output_type": "display_data",
          "data": {
            "image/png": "[encoded data removed]",
            "text/plain": [
              "<Figure size 432x288 with 1 Axes>"
            ]
          },
          "metadata": {
            "tags": [],
            "needs_background": "light"
          }
        }
      ]
    },
    {
      "cell_type": "code",
      "metadata": {
        "colab": {
          "base_uri": "https://localhost:8080/"
        },
        "id": "TdaubhdSq71X",
        "outputId": "4f4c8a39-c2c2-46fd-978b-83560603e143"
      },
      "source": [
        "# plot the mean AUC over each label\n",
        "p = model.predict(data)\n",
        "aucs = []\n",
        "for j in range(4):\n",
        "    auc = roc_auc_score(targets[:,j], p[:,j])\n",
        "    aucs.append(auc)\n",
        "print(np.mean(aucs))"
      ],
      "execution_count": 19,
      "outputs": [
        {
          "output_type": "stream",
          "text": [
            "0.928636013825399\n"
          ],
          "name": "stdout"
        }
      ]
    },
    {
      "cell_type": "code",
      "metadata": {
        "id": "QMzpN9kmA1h1"
      },
      "source": [
        "\"\"\"\n",
        "from sklearn.metrics import classification_report\n",
        "import itertools\n",
        "import matplotlib.pyplot as plt\n",
        "from sklearn.metrics import confusion_matrix\n",
        "import numpy as np\n",
        "\"\"\""
      ],
      "execution_count": 20,
      "outputs": []
    },
    {
      "cell_type": "code",
      "metadata": {
        "id": "tx52hR6eA1tE"
      },
      "source": [
        "\"\"\"\n",
        "def plot_confusion_matrix(cm, classes,\n",
        "                          normalize=False,\n",
        "                          title='Confusion matrix',\n",
        "                          cmap=plt.cm.Blues):\n",
        "    \"\"\"\n",
        "    This function prints and plots the confusion matrix.\n",
        "    Normalization can be applied by setting `normalize=True`.\n",
        "    \"\"\"\n",
        "    if normalize:\n",
        "        cm = cm.astype('float') / cm.sum(axis=1)[:, np.newaxis]\n",
        "        print(\"Normalized confusion matrix\")\n",
        "    else:\n",
        "        print('Confusion matrix, without normalization')\n",
        "\n",
        "    print(cm)\n",
        "\n",
        "    plt.imshow(cm, interpolation='nearest', cmap=cmap)\n",
        "    plt.title(title)\n",
        "    plt.colorbar()\n",
        "    tick_marks = np.arange(len(classes))\n",
        "    plt.xticks(tick_marks, classes, rotation=45)\n",
        "    plt.yticks(tick_marks, classes)\n",
        "\n",
        "    fmt = '.2f' if normalize else 'd'\n",
        "    thresh = cm.max() / 2.\n",
        "    for i, j in itertools.product(range(cm.shape[0]), range(cm.shape[1])):\n",
        "        plt.text(j, i, format(cm[i, j], fmt),\n",
        "                 horizontalalignment=\"center\",\n",
        "                 color=\"white\" if cm[i, j] > thresh else \"black\")\n",
        "\n",
        "    plt.ylabel('True label')\n",
        "    plt.xlabel('Predicted label')\n",
        "    plt.tight_layout()\n",
        "\"\"\""
      ],
      "execution_count": 21,
      "outputs": []
    },
    {
      "cell_type": "code",
      "metadata": {
        "colab": {
          "base_uri": "https://localhost:8080/",
          "height": 197
        },
        "id": "XHxqkS6vBrK8",
        "outputId": "d1b358c0-8e03-4ee1-d3bb-12a2e945138c"
      },
      "source": [
        "\"\"\"\n",
        "X = targets\n",
        "y = sentences\n",
        "#class_names = possible_labels\n",
        "X_train, X_test, y_train, y_test = train_test_split(X, y, random_state=0)\n",
        "\"\"\""
      ],
      "execution_count": 22,
      "outputs": [
        {
          "output_type": "error",
          "ename": "NameError",
          "evalue": "ignored",
          "traceback": [
            "\u001b[0;31m---------------------------------------------------------------------------\u001b[0m",
            "\u001b[0;31mNameError\u001b[0m                                 Traceback (most recent call last)",
            "\u001b[0;32m<ipython-input-22-0d334128c000>\u001b[0m in \u001b[0;36m<module>\u001b[0;34m()\u001b[0m\n\u001b[1;32m      2\u001b[0m \u001b[0my\u001b[0m \u001b[0;34m=\u001b[0m \u001b[0msentences\u001b[0m\u001b[0;34m\u001b[0m\u001b[0;34m\u001b[0m\u001b[0m\n\u001b[1;32m      3\u001b[0m \u001b[0;31m#class_names = possible_labels\u001b[0m\u001b[0;34m\u001b[0m\u001b[0;34m\u001b[0m\u001b[0;34m\u001b[0m\u001b[0m\n\u001b[0;32m----> 4\u001b[0;31m \u001b[0mX_train\u001b[0m\u001b[0;34m,\u001b[0m \u001b[0mX_test\u001b[0m\u001b[0;34m,\u001b[0m \u001b[0my_train\u001b[0m\u001b[0;34m,\u001b[0m \u001b[0my_test\u001b[0m \u001b[0;34m=\u001b[0m \u001b[0mtrain_test_split\u001b[0m\u001b[0;34m(\u001b[0m\u001b[0mX\u001b[0m\u001b[0;34m,\u001b[0m \u001b[0my\u001b[0m\u001b[0;34m,\u001b[0m \u001b[0mrandom_state\u001b[0m\u001b[0;34m=\u001b[0m\u001b[0;36m0\u001b[0m\u001b[0;34m)\u001b[0m\u001b[0;34m\u001b[0m\u001b[0;34m\u001b[0m\u001b[0m\n\u001b[0m",
            "\u001b[0;31mNameError\u001b[0m: name 'train_test_split' is not defined"
          ]
        }
      ]
    },
    {
      "cell_type": "code",
      "metadata": {
        "colab": {
          "base_uri": "https://localhost:8080/",
          "height": 230
        },
        "id": "SgsjQlHOBEAu",
        "outputId": "ff5a3132-0721-4087-c958-187859550da2"
      },
      "source": [
        "\"\"\"\n",
        "y_predict = y.predict(X_test, batch_size=None, verbose=0, steps=None)\n",
        "\n",
        "y_pred = convert_to_labels(y_predict)\n",
        "y_true = convert_to_labels(y_test)\n",
        "target_names = [ \"locate_restaurant\", \"restaurant_type\", \"table_reservation\", \"restaurant_review\"]\n",
        "print(classification_report(y_true, y_pred, target_names=target_names))\n",
        "print (\"**************************************************************\")\n",
        "\n",
        "plt.figure()\n",
        "cnf_matrix = confusion_matrix(y_true, y_pred)\n",
        "plot_confusion_matrix(cnf_matrix, classes=target_names,normalize=True,\n",
        "                    title='confusion matrix')\n",
        "\n",
        "plt.show()\n",
        "\"\"\""
      ],
      "execution_count": 23,
      "outputs": [
        {
          "output_type": "error",
          "ename": "AttributeError",
          "evalue": "ignored",
          "traceback": [
            "\u001b[0;31m---------------------------------------------------------------------------\u001b[0m",
            "\u001b[0;31mAttributeError\u001b[0m                            Traceback (most recent call last)",
            "\u001b[0;32m<ipython-input-23-280b564527a0>\u001b[0m in \u001b[0;36m<module>\u001b[0;34m()\u001b[0m\n\u001b[0;32m----> 1\u001b[0;31m \u001b[0my_predict\u001b[0m \u001b[0;34m=\u001b[0m \u001b[0my\u001b[0m\u001b[0;34m.\u001b[0m\u001b[0mpredict\u001b[0m\u001b[0;34m(\u001b[0m\u001b[0mX_test\u001b[0m\u001b[0;34m,\u001b[0m \u001b[0mbatch_size\u001b[0m\u001b[0;34m=\u001b[0m\u001b[0;32mNone\u001b[0m\u001b[0;34m,\u001b[0m \u001b[0mverbose\u001b[0m\u001b[0;34m=\u001b[0m\u001b[0;36m0\u001b[0m\u001b[0;34m,\u001b[0m \u001b[0msteps\u001b[0m\u001b[0;34m=\u001b[0m\u001b[0;32mNone\u001b[0m\u001b[0;34m)\u001b[0m\u001b[0;34m\u001b[0m\u001b[0;34m\u001b[0m\u001b[0m\n\u001b[0m\u001b[1;32m      2\u001b[0m \u001b[0;34m\u001b[0m\u001b[0m\n\u001b[1;32m      3\u001b[0m \u001b[0my_pred\u001b[0m \u001b[0;34m=\u001b[0m \u001b[0mconvert_to_labels\u001b[0m\u001b[0;34m(\u001b[0m\u001b[0my_predict\u001b[0m\u001b[0;34m)\u001b[0m\u001b[0;34m\u001b[0m\u001b[0;34m\u001b[0m\u001b[0m\n\u001b[1;32m      4\u001b[0m \u001b[0my_true\u001b[0m \u001b[0;34m=\u001b[0m \u001b[0mconvert_to_labels\u001b[0m\u001b[0;34m(\u001b[0m\u001b[0my_test\u001b[0m\u001b[0;34m)\u001b[0m\u001b[0;34m\u001b[0m\u001b[0;34m\u001b[0m\u001b[0m\n\u001b[1;32m      5\u001b[0m \u001b[0mtarget_names\u001b[0m \u001b[0;34m=\u001b[0m \u001b[0;34m[\u001b[0m \u001b[0;34m\"locate_restaurant\"\u001b[0m\u001b[0;34m,\u001b[0m \u001b[0;34m\"restaurant_type\"\u001b[0m\u001b[0;34m,\u001b[0m \u001b[0;34m\"table_reservation\"\u001b[0m\u001b[0;34m,\u001b[0m \u001b[0;34m\"restaurant_review\"\u001b[0m\u001b[0;34m]\u001b[0m\u001b[0;34m\u001b[0m\u001b[0;34m\u001b[0m\u001b[0m\n",
            "\u001b[0;31mAttributeError\u001b[0m: 'numpy.ndarray' object has no attribute 'predict'"
          ]
        }
      ]
    },
    {
      "cell_type": "code",
      "metadata": {
        "id": "0L-zmNzkY7Xl"
      },
      "source": [
        "from sklearn import svm, datasets\n",
        "from sklearn.model_selection import train_test_split\n",
        "from sklearn.metrics import plot_confusion_matrix"
      ],
      "execution_count": 24,
      "outputs": []
    },
    {
      "cell_type": "code",
      "metadata": {
        "id": "2XEs_rdeY7lN"
      },
      "source": [
        "X = targets\n",
        "y = sentences\n",
        "class_names = possible_labels\n",
        "\n",
        "# Split the data into a training set and a test set\n",
        "X_train, X_test, y_train, y_test = train_test_split(X, y, random_state=0)"
      ],
      "execution_count": 25,
      "outputs": []
    },
    {
      "cell_type": "code",
      "metadata": {
        "colab": {
          "base_uri": "https://localhost:8080/",
          "height": 1000
        },
        "id": "mEYZMih7ZJTQ",
        "outputId": "bde4ed3d-7b1c-42d1-9851-ee6706c61979"
      },
      "source": [
        "X = targets\n",
        "y = sentences\n",
        "class_names = possible_labels\n",
        "\n",
        "# Split the data into a training set and a test set\n",
        "X_train, X_test, y_train, y_test = train_test_split(X, y, random_state=0)\n",
        "\n",
        "# Run classifier, using a model that is too regularized (C too low) to see\n",
        "# the impact on the results\n",
        "classifier = svm.SVC(kernel='linear', C=0.01).fit(X_train, y_train)\n",
        "\n",
        "np.set_printoptions(precision=2)\n",
        "# Plot non-normalized confusion matrix\n",
        "titles_options = [(\"Confusion matrix, without normalization\", None),\n",
        "                  (\"Normalized confusion matrix\", 'true')]\n",
        "for title, normalize in titles_options:\n",
        "    disp = plot_confusion_matrix(classifier, X_test, y_test,\n",
        "                                  display_labels=class_names,\n",
        "                                  cmap=plt.cm.Blues,\n",
        "                                  normalize=normalize)\n",
        "    disp.ax_.set_title(title)\n",
        "    \n",
        "    print(title)\n",
        "    print(disp.confusion_matrix)\n",
        "\n",
        "plt.tight_layout()\n",
        "plt.figure(figsize=(1000,1000))\n",
        "plt.show()"
      ],
      "execution_count": 26,
      "outputs": [
        {
          "output_type": "stream",
          "text": [
            "Confusion matrix, without normalization\n",
            "[[0 0 0 0 0 0 0 0 0 0 0 0 0 0 0 0 0 0 0 0 1 0 0 0 0 0 0 0 0]\n",
            " [0 0 0 0 0 0 0 0 0 0 0 0 0 0 0 0 0 0 0 0 0 0 0 0 1 0 0 0 0]\n",
            " [0 0 0 0 0 0 0 0 0 0 0 0 0 0 0 0 0 0 0 0 0 0 0 0 1 0 0 0 0]\n",
            " [0 0 0 0 0 0 0 0 0 0 0 0 0 0 0 0 0 0 0 0 1 0 0 0 0 0 0 0 0]\n",
            " [0 0 0 0 0 0 0 0 0 0 0 0 0 0 0 0 0 0 0 0 1 0 0 0 0 0 0 0 0]\n",
            " [0 0 0 0 0 0 0 0 0 0 0 0 0 0 0 0 0 0 0 0 1 0 0 0 0 0 0 0 0]\n",
            " [0 0 0 0 0 0 0 0 0 0 0 0 0 0 0 0 0 0 0 0 0 0 0 0 0 0 1 0 0]\n",
            " [0 0 0 0 0 0 0 0 0 0 0 0 0 0 0 0 0 0 0 0 1 0 0 0 0 0 0 0 0]\n",
            " [0 0 0 0 0 0 0 0 0 0 0 0 0 0 0 0 0 0 0 0 1 0 0 0 0 0 0 0 0]\n",
            " [0 0 0 0 0 0 0 0 0 0 0 0 0 0 0 0 0 0 0 0 0 0 0 0 1 0 0 0 0]\n",
            " [0 0 0 0 0 0 0 0 0 0 0 0 0 0 0 0 0 0 0 0 1 0 0 0 0 0 0 0 0]\n",
            " [0 0 0 0 0 0 0 0 0 0 0 0 0 0 0 0 0 0 0 0 0 0 0 0 0 0 0 0 1]\n",
            " [0 0 0 0 0 0 0 0 0 0 0 0 0 0 0 0 0 0 0 0 0 0 0 0 1 0 0 0 0]\n",
            " [0 0 0 0 0 0 0 0 0 0 0 0 0 0 0 0 0 0 0 0 0 0 0 0 0 0 0 0 1]\n",
            " [0 0 0 0 0 0 0 0 0 0 0 0 0 0 0 0 0 0 0 0 0 0 0 0 0 0 0 0 1]\n",
            " [0 0 0 0 0 0 0 0 0 0 0 0 0 0 0 0 0 0 0 0 1 0 0 0 0 0 0 0 0]\n",
            " [0 0 0 0 0 0 0 0 0 0 0 0 0 0 0 0 0 0 0 0 0 0 0 0 0 0 0 0 1]\n",
            " [0 0 0 0 0 0 0 0 0 0 0 0 0 0 0 0 0 0 0 0 0 0 0 0 0 0 0 0 1]\n",
            " [0 0 0 0 0 0 0 0 0 0 0 0 0 0 0 0 0 0 0 0 0 0 0 0 1 0 0 0 0]\n",
            " [0 0 0 0 0 0 0 0 0 0 0 0 0 0 0 0 0 0 0 0 1 0 0 0 0 0 0 0 0]\n",
            " [0 0 0 0 0 0 0 0 0 0 0 0 0 0 0 0 0 0 0 0 0 0 0 0 0 0 0 0 0]\n",
            " [0 0 0 0 0 0 0 0 0 0 0 0 0 0 0 0 0 0 0 0 1 0 0 0 0 0 0 0 0]\n",
            " [0 0 0 0 0 0 0 0 0 0 0 0 0 0 0 0 0 0 0 0 0 0 0 0 1 0 0 0 0]\n",
            " [0 0 0 0 0 0 0 0 0 0 0 0 0 0 0 0 0 0 0 0 0 0 0 0 1 0 0 0 0]\n",
            " [0 0 0 0 0 0 0 0 0 0 0 0 0 0 0 0 0 0 0 0 0 0 0 0 0 0 0 0 0]\n",
            " [0 0 0 0 0 0 0 0 0 0 0 0 0 0 0 0 0 0 0 0 0 0 0 0 0 0 1 0 0]\n",
            " [0 0 0 0 0 0 0 0 0 0 0 0 0 0 0 0 0 0 0 0 0 0 0 0 0 0 0 0 0]\n",
            " [0 0 0 0 0 0 0 0 0 0 0 0 0 0 0 0 0 0 0 0 0 0 0 0 0 0 0 0 1]\n",
            " [0 0 0 0 0 0 0 0 0 0 0 0 0 0 0 0 0 0 0 0 0 0 0 0 0 0 0 0 0]]\n",
            "Normalized confusion matrix\n",
            "[[0. 0. 0. 0. 0. 0. 0. 0. 0. 0. 0. 0. 0. 0. 0. 0. 0. 0. 0. 0. 1. 0. 0. 0.\n",
            "  0. 0. 0. 0. 0.]\n",
            " [0. 0. 0. 0. 0. 0. 0. 0. 0. 0. 0. 0. 0. 0. 0. 0. 0. 0. 0. 0. 0. 0. 0. 0.\n",
            "  1. 0. 0. 0. 0.]\n",
            " [0. 0. 0. 0. 0. 0. 0. 0. 0. 0. 0. 0. 0. 0. 0. 0. 0. 0. 0. 0. 0. 0. 0. 0.\n",
            "  1. 0. 0. 0. 0.]\n",
            " [0. 0. 0. 0. 0. 0. 0. 0. 0. 0. 0. 0. 0. 0. 0. 0. 0. 0. 0. 0. 1. 0. 0. 0.\n",
            "  0. 0. 0. 0. 0.]\n",
            " [0. 0. 0. 0. 0. 0. 0. 0. 0. 0. 0. 0. 0. 0. 0. 0. 0. 0. 0. 0. 1. 0. 0. 0.\n",
            "  0. 0. 0. 0. 0.]\n",
            " [0. 0. 0. 0. 0. 0. 0. 0. 0. 0. 0. 0. 0. 0. 0. 0. 0. 0. 0. 0. 1. 0. 0. 0.\n",
            "  0. 0. 0. 0. 0.]\n",
            " [0. 0. 0. 0. 0. 0. 0. 0. 0. 0. 0. 0. 0. 0. 0. 0. 0. 0. 0. 0. 0. 0. 0. 0.\n",
            "  0. 0. 1. 0. 0.]\n",
            " [0. 0. 0. 0. 0. 0. 0. 0. 0. 0. 0. 0. 0. 0. 0. 0. 0. 0. 0. 0. 1. 0. 0. 0.\n",
            "  0. 0. 0. 0. 0.]\n",
            " [0. 0. 0. 0. 0. 0. 0. 0. 0. 0. 0. 0. 0. 0. 0. 0. 0. 0. 0. 0. 1. 0. 0. 0.\n",
            "  0. 0. 0. 0. 0.]\n",
            " [0. 0. 0. 0. 0. 0. 0. 0. 0. 0. 0. 0. 0. 0. 0. 0. 0. 0. 0. 0. 0. 0. 0. 0.\n",
            "  1. 0. 0. 0. 0.]\n",
            " [0. 0. 0. 0. 0. 0. 0. 0. 0. 0. 0. 0. 0. 0. 0. 0. 0. 0. 0. 0. 1. 0. 0. 0.\n",
            "  0. 0. 0. 0. 0.]\n",
            " [0. 0. 0. 0. 0. 0. 0. 0. 0. 0. 0. 0. 0. 0. 0. 0. 0. 0. 0. 0. 0. 0. 0. 0.\n",
            "  0. 0. 0. 0. 1.]\n",
            " [0. 0. 0. 0. 0. 0. 0. 0. 0. 0. 0. 0. 0. 0. 0. 0. 0. 0. 0. 0. 0. 0. 0. 0.\n",
            "  1. 0. 0. 0. 0.]\n",
            " [0. 0. 0. 0. 0. 0. 0. 0. 0. 0. 0. 0. 0. 0. 0. 0. 0. 0. 0. 0. 0. 0. 0. 0.\n",
            "  0. 0. 0. 0. 1.]\n",
            " [0. 0. 0. 0. 0. 0. 0. 0. 0. 0. 0. 0. 0. 0. 0. 0. 0. 0. 0. 0. 0. 0. 0. 0.\n",
            "  0. 0. 0. 0. 1.]\n",
            " [0. 0. 0. 0. 0. 0. 0. 0. 0. 0. 0. 0. 0. 0. 0. 0. 0. 0. 0. 0. 1. 0. 0. 0.\n",
            "  0. 0. 0. 0. 0.]\n",
            " [0. 0. 0. 0. 0. 0. 0. 0. 0. 0. 0. 0. 0. 0. 0. 0. 0. 0. 0. 0. 0. 0. 0. 0.\n",
            "  0. 0. 0. 0. 1.]\n",
            " [0. 0. 0. 0. 0. 0. 0. 0. 0. 0. 0. 0. 0. 0. 0. 0. 0. 0. 0. 0. 0. 0. 0. 0.\n",
            "  0. 0. 0. 0. 1.]\n",
            " [0. 0. 0. 0. 0. 0. 0. 0. 0. 0. 0. 0. 0. 0. 0. 0. 0. 0. 0. 0. 0. 0. 0. 0.\n",
            "  1. 0. 0. 0. 0.]\n",
            " [0. 0. 0. 0. 0. 0. 0. 0. 0. 0. 0. 0. 0. 0. 0. 0. 0. 0. 0. 0. 1. 0. 0. 0.\n",
            "  0. 0. 0. 0. 0.]\n",
            " [0. 0. 0. 0. 0. 0. 0. 0. 0. 0. 0. 0. 0. 0. 0. 0. 0. 0. 0. 0. 0. 0. 0. 0.\n",
            "  0. 0. 0. 0. 0.]\n",
            " [0. 0. 0. 0. 0. 0. 0. 0. 0. 0. 0. 0. 0. 0. 0. 0. 0. 0. 0. 0. 1. 0. 0. 0.\n",
            "  0. 0. 0. 0. 0.]\n",
            " [0. 0. 0. 0. 0. 0. 0. 0. 0. 0. 0. 0. 0. 0. 0. 0. 0. 0. 0. 0. 0. 0. 0. 0.\n",
            "  1. 0. 0. 0. 0.]\n",
            " [0. 0. 0. 0. 0. 0. 0. 0. 0. 0. 0. 0. 0. 0. 0. 0. 0. 0. 0. 0. 0. 0. 0. 0.\n",
            "  1. 0. 0. 0. 0.]\n",
            " [0. 0. 0. 0. 0. 0. 0. 0. 0. 0. 0. 0. 0. 0. 0. 0. 0. 0. 0. 0. 0. 0. 0. 0.\n",
            "  0. 0. 0. 0. 0.]\n",
            " [0. 0. 0. 0. 0. 0. 0. 0. 0. 0. 0. 0. 0. 0. 0. 0. 0. 0. 0. 0. 0. 0. 0. 0.\n",
            "  0. 0. 1. 0. 0.]\n",
            " [0. 0. 0. 0. 0. 0. 0. 0. 0. 0. 0. 0. 0. 0. 0. 0. 0. 0. 0. 0. 0. 0. 0. 0.\n",
            "  0. 0. 0. 0. 0.]\n",
            " [0. 0. 0. 0. 0. 0. 0. 0. 0. 0. 0. 0. 0. 0. 0. 0. 0. 0. 0. 0. 0. 0. 0. 0.\n",
            "  0. 0. 0. 0. 1.]\n",
            " [0. 0. 0. 0. 0. 0. 0. 0. 0. 0. 0. 0. 0. 0. 0. 0. 0. 0. 0. 0. 0. 0. 0. 0.\n",
            "  0. 0. 0. 0. 0.]]\n"
          ],
          "name": "stdout"
        },
        {
          "output_type": "display_data",
          "data": {
            "image/png": "[encoded data removed]",
            "text/plain": [
              "<Figure size 432x288 with 2 Axes>"
            ]
          },
          "metadata": {
            "tags": [],
            "needs_background": "light"
          }
        },
        {
          "output_type": "display_data",
          "data": {
            "image/png": "[encoded data removed]",
            "text/plain": [
              "<Figure size 432x288 with 2 Axes>"
            ]
          },
          "metadata": {
            "tags": [],
            "needs_background": "light"
          }
        },
        {
          "output_type": "display_data",
          "data": {
            "text/plain": [
              "<Figure size 72000x72000 with 0 Axes>"
            ]
          },
          "metadata": {
            "tags": []
          }
        }
      ]
    }
  ]
}